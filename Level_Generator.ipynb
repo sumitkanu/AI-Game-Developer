{
  "cells": [
    {
      "cell_type": "code",
      "execution_count": null,
      "metadata": {
        "colab": {
          "base_uri": "https://localhost:8080/"
        },
        "id": "_zEZSQoeg4CL",
        "outputId": "02d91059-f94b-4abf-81b9-f40b6cfab279"
      },
      "outputs": [
        {
          "output_type": "stream",
          "name": "stdout",
          "text": [
            "Drive already mounted at /content/drive; to attempt to forcibly remount, call drive.mount(\"/content/drive\", force_remount=True).\n"
          ]
        }
      ],
      "source": [
        "from google.colab import drive\n",
        "drive.mount('/content/drive')"
      ]
    },
    {
      "cell_type": "code",
      "execution_count": null,
      "metadata": {
        "id": "YN7mmJwdENDD"
      },
      "outputs": [],
      "source": [
        "import numpy as np\n",
        "import torch\n",
        "import torch.nn as nn\n",
        "import torch.optim as optim\n",
        "import torch.nn.functional as F\n",
        "import random\n",
        "import matplotlib.pyplot as plt\n",
        "from collections import deque, namedtuple\n",
        "\n",
        "# Define map elements\n",
        "EMPTY = 0\n",
        "WALL = 1\n",
        "LAVA = 2\n",
        "TREASURE = 3\n",
        "EXIT = 4\n",
        "START = 5\n",
        "\n",
        "# Define Colors for Visualization\n",
        "COLOR_MAP = {\n",
        "    EMPTY: \"white\",\n",
        "    WALL: \"brown\",\n",
        "    LAVA: \"red\",\n",
        "    TREASURE: \"yellow\",\n",
        "    EXIT: \"green\",\n",
        "    START: \"blue\",\n",
        "}\n",
        "\n",
        "# Experience replay buffer\n",
        "Experience = namedtuple('Experience', ['state', 'action', 'reward', 'next_state', 'done'])"
      ]
    },
    {
      "cell_type": "code",
      "execution_count": null,
      "metadata": {
        "id": "W0uoMw7qEYpM"
      },
      "outputs": [],
      "source": [
        "class ReplayBuffer:\n",
        "    def __init__(self, capacity=5000):\n",
        "        self.buffer = deque(maxlen=capacity)\n",
        "\n",
        "    def push(self, state, action, reward, next_state, done):\n",
        "        self.buffer.append(Experience(state, action, reward, next_state, done))\n",
        "\n",
        "    def sample(self, batch_size):\n",
        "        experiences = random.sample(self.buffer, k=batch_size)\n",
        "        states = torch.stack([torch.tensor(e.state, dtype=torch.float) for e in experiences])\n",
        "        actions = torch.tensor([e.action for e in experiences])\n",
        "        rewards = torch.tensor([e.reward for e in experiences], dtype=torch.float)\n",
        "        next_states = torch.stack([torch.tensor(e.next_state, dtype=torch.float) for e in experiences])\n",
        "        dones = torch.tensor([e.done for e in experiences], dtype=torch.float)\n",
        "        return states, actions, rewards, next_states, dones\n",
        "\n",
        "    def __len__(self):\n",
        "        return len(self.buffer)\n",
        "\n",
        "class DQNModel(nn.Module):\n",
        "    \"\"\"Lightweight Q-Network\"\"\"\n",
        "    def __init__(self, input_dim, output_dim):\n",
        "        super(DQNModel, self).__init__()\n",
        "        self.fc1 = nn.Linear(input_dim, 128)\n",
        "        self.fc2 = nn.Linear(128, 128)\n",
        "        self.fc3 = nn.Linear(128, output_dim)\n",
        "\n",
        "    def forward(self, x):\n",
        "        x = F.relu(self.fc1(x))\n",
        "        x = F.relu(self.fc2(x))\n",
        "        return self.fc3(x)"
      ]
    },
    {
      "cell_type": "code",
      "execution_count": null,
      "metadata": {
        "id": "H56s7G70ZnYM"
      },
      "outputs": [],
      "source": [
        "class DungeonAgent:\n",
        "    \"\"\"Agent that learns to generate levels\"\"\"\n",
        "    def __init__(self, state_size, action_size, seed=42):\n",
        "        self.state_size = state_size\n",
        "        self.action_size = action_size\n",
        "\n",
        "        random.seed(seed)\n",
        "        torch.manual_seed(seed)\n",
        "\n",
        "        self.qnetwork = DQNModel(state_size, action_size)\n",
        "        self.optimizer = optim.Adam(self.qnetwork.parameters(), lr=0.001)\n",
        "        self.memory = ReplayBuffer(5000)\n",
        "\n",
        "        self.batch_size = 32\n",
        "        self.gamma = 0.99\n",
        "        self.epsilon = 1.0\n",
        "        self.epsilon_decay = 0.999995\n",
        "        self.epsilon_min = 0.000001\n",
        "\n",
        "    def act(self, state, eval_mode=False):\n",
        "        \"\"\"Modified to add some randomness in evaluation mode\"\"\"\n",
        "        if not eval_mode and random.random() < self.epsilon:\n",
        "            return random.randint(0, self.action_size - 1)\n",
        "\n",
        "        state = torch.tensor(state, dtype=torch.float).unsqueeze(0)\n",
        "        with torch.no_grad():\n",
        "            action_values = self.qnetwork(state)\n",
        "\n",
        "        # Add slight randomness in evaluation mode\n",
        "        if eval_mode and random.random() < 0.2:  # 20% chance to explore\n",
        "            return random.choice(np.arange(self.action_size))\n",
        "\n",
        "        return torch.argmax(action_values).item()\n",
        "\n",
        "\n",
        "    def step(self, state, action, reward, next_state, done):\n",
        "        \"\"\"Save experience & train\"\"\"\n",
        "        self.memory.push(state, action, reward, next_state, done)\n",
        "        if len(self.memory) > self.batch_size:\n",
        "            self.learn(self.memory.sample(self.batch_size))\n",
        "\n",
        "    def learn(self, experiences):\n",
        "        states, actions, rewards, next_states, dones = experiences\n",
        "\n",
        "        Q_expected = self.qnetwork(states).gather(1, actions.unsqueeze(1)).squeeze(1)\n",
        "        Q_targets = rewards + (self.gamma * self.qnetwork(next_states).max(1)[0] * (1 - dones))\n",
        "\n",
        "        loss = F.mse_loss(Q_expected, Q_targets)\n",
        "        self.optimizer.zero_grad()\n",
        "        loss.backward()\n",
        "        self.optimizer.step()\n",
        "\n",
        "        self.epsilon = max(self.epsilon_min, self.epsilon * self.epsilon_decay)"
      ]
    },
    {
      "cell_type": "code",
      "source": [
        "class DungeonEnvironment:\n",
        "    \"\"\"Environment for RL-based level generation inside a fixed 20x20 board.\"\"\"\n",
        "    def __init__(self, difficulty=5):\n",
        "        self.board_size = 20  # Fixed outer board size\n",
        "        self.difficulty = difficulty  # Difficulty level (1-10)\n",
        "        self.width, self.height = self._determine_playable_size()\n",
        "        self.grid = np.zeros((self.board_size, self.board_size), dtype=np.int8)\n",
        "        self.max_steps = (self.width * self.height) // 2  # Adjust steps based on size\n",
        "        self.current_step = 0\n",
        "        self.element_types = [EMPTY, WALL, LAVA, TREASURE]\n",
        "        self.start_pos = None\n",
        "        self.exit_pos = None\n",
        "\n",
        "        # Compute playable area boundaries\n",
        "        self.playable_start_x = (self.board_size - self.width) // 2\n",
        "        self.playable_start_y = (self.board_size - self.height) // 2\n",
        "        self.playable_end_x = self.playable_start_x + self.width - 1\n",
        "        self.playable_end_y = self.playable_start_y + self.height - 1\n",
        "\n",
        "    def _determine_playable_size(self):\n",
        "        \"\"\"Determine the playable area based on difficulty (inside 20x20).\"\"\"\n",
        "        if self.difficulty <= 3:  # Easy\n",
        "            return random.randint(8, 10), random.randint(8, 10)\n",
        "        elif self.difficulty <= 7:  # Medium\n",
        "            return random.randint(12, 16), random.randint(12, 16)\n",
        "        else:  # Hard\n",
        "            return random.randint(18, 20), random.randint(18, 20)\n",
        "\n",
        "    def reset(self):\n",
        "        \"\"\"Reset dungeon with a dynamic playable area inside a fixed 20x20 board.\"\"\"\n",
        "        self.grid.fill(EMPTY)\n",
        "\n",
        "        # Recalculate playable boundaries\n",
        "        self.playable_start_x = (self.board_size - self.width) // 2\n",
        "        self.playable_start_y = (self.board_size - self.height) // 2\n",
        "        self.playable_end_x = self.playable_start_x + self.width - 1\n",
        "        self.playable_end_y = self.playable_start_y + self.height - 1\n",
        "\n",
        "        # Set walls around the playable area\n",
        "        for y in range(self.playable_start_y, self.playable_end_y + 1):\n",
        "            for x in range(self.playable_start_x, self.playable_end_x + 1):\n",
        "                if y == self.playable_start_y or y == self.playable_end_y or x == self.playable_start_x or x == self.playable_end_x:\n",
        "                    self.grid[y, x] = WALL  # Border walls\n",
        "\n",
        "        # Randomly place start and exit inside playable area\n",
        "        self.start_pos, self.exit_pos = self._place_start_and_exit()\n",
        "        self.grid[self.start_pos[1], self.start_pos[0]] = START\n",
        "        self.grid[self.exit_pos[1], self.exit_pos[0]] = EXIT\n",
        "\n",
        "        self.current_step = 0\n",
        "        return self._get_state()\n",
        "\n",
        "    def _place_start_and_exit(self):\n",
        "        \"\"\"Randomly place start and exit inside playable area.\"\"\"\n",
        "        while True:\n",
        "            sx = random.randint(self.playable_start_x + 1, self.playable_end_x - 1)\n",
        "            sy = random.randint(self.playable_start_y + 1, self.playable_end_y - 1)\n",
        "            ex = random.randint(self.playable_start_x + 1, self.playable_end_x - 1)\n",
        "            ey = random.randint(self.playable_start_y + 1, self.playable_end_y - 1)\n",
        "\n",
        "            # Ensure they are far apart\n",
        "            min_distance = max(self.width, self.height) // 2\n",
        "            if abs(sx - ex) + abs(sy - ey) >= min_distance:\n",
        "                return (sx, sy), (ex, ey)\n",
        "\n",
        "    def _calculate_path_complexity(self):\n",
        "        \"\"\"Calculate path complexity based on how many paths exist and their lengths.\"\"\"\n",
        "\n",
        "        # Perform BFS from start position\n",
        "        visited = np.zeros((self.board_size, self.board_size), dtype=bool)\n",
        "        queue = [(self.start_pos, 0)]  # (position, distance)\n",
        "        visited[self.start_pos[1], self.start_pos[0]] = True\n",
        "        path_lengths = []\n",
        "\n",
        "        while queue:\n",
        "            (x, y), dist = queue.pop(0)\n",
        "\n",
        "            # If reached exit, store path length\n",
        "            if (x, y) == self.exit_pos:\n",
        "                path_lengths.append(dist)\n",
        "                continue\n",
        "\n",
        "            # Explore all four directions\n",
        "            for dx, dy in [(0, -1), (1, 0), (0, 1), (-1, 0)]:\n",
        "                nx, ny = x + dx, y + dy\n",
        "\n",
        "                if (0 <= nx < self.board_size and 0 <= ny < self.board_size and\n",
        "                    not visited[ny, nx] and self.grid[ny, nx] != WALL):\n",
        "                    visited[ny, nx] = True\n",
        "                    queue.append(((nx, ny), dist + 1))\n",
        "\n",
        "        # **Path Complexity Calculation**\n",
        "        if not path_lengths:\n",
        "            return 0  # No valid paths = no complexity\n",
        "\n",
        "        # Complexity = Average path length scaled by grid size\n",
        "        avg_path_length = sum(path_lengths) / len(path_lengths)\n",
        "        normalized_complexity = avg_path_length / (self.width + self.height)\n",
        "\n",
        "        return normalized_complexity  # Returns value between 0-1\n",
        "\n",
        "    def step(self, action):\n",
        "        \"\"\"Modify grid based on action, ensuring placement inside playable area.\"\"\"\n",
        "        self.current_step += 1\n",
        "        reward = 0\n",
        "        done = False\n",
        "\n",
        "        # **Fixing action mapping to only affect the playable area**\n",
        "        playable_area_size = self.width * self.height\n",
        "        position_idx = action % playable_area_size  # Restrict actions to playable cells\n",
        "        element_type = self.element_types[action % len(self.element_types)]\n",
        "\n",
        "        # Compute (x, y) inside playable area\n",
        "        relative_x = position_idx % self.width\n",
        "        relative_y = position_idx // self.width\n",
        "        x = self.playable_start_x + relative_x\n",
        "        y = self.playable_start_y + relative_y\n",
        "\n",
        "        # **Ensure modifications only inside valid area**\n",
        "        if (x, y) == self.start_pos or (x, y) == self.exit_pos:\n",
        "            reward += 1  # Small reward for avoiding modification here\n",
        "        else:\n",
        "            self.grid[y, x] = element_type  # Place the selected element\n",
        "            reward += 5  # Base reward for modifying a tile\n",
        "\n",
        "            # **New Element Rewards**\n",
        "            if element_type == WALL:\n",
        "                reward += 20  # Encourage placing walls to form a maze\n",
        "            elif element_type == LAVA:\n",
        "                reward += 10  # Encourage lava, but less than walls\n",
        "            elif element_type == TREASURE:\n",
        "                reward += 15  # Encourage treasure placement\n",
        "\n",
        "        # **Penalty for too many empty spaces**\n",
        "        empty_tiles = np.sum(self.grid == EMPTY)\n",
        "        if empty_tiles > (self.width * self.height) * 0.3:  # More than 30% empty\n",
        "            reward -= 10  # Discourage empty levels\n",
        "\n",
        "        # **End of Episode Bonus**\n",
        "        if self.current_step >= self.max_steps:\n",
        "            done = True\n",
        "            path_complexity = self._calculate_path_complexity()\n",
        "            reward += path_complexity * 30  # Strong reward for complex paths\n",
        "\n",
        "        return self._get_state(), reward, done\n",
        "\n",
        "\n",
        "\n",
        "    def _get_state(self):\n",
        "        return self.grid.flatten().astype(np.float32)"
      ],
      "metadata": {
        "id": "gJaRmN-3_coH"
      },
      "execution_count": null,
      "outputs": []
    },
    {
      "cell_type": "code",
      "execution_count": null,
      "metadata": {
        "id": "NPm7LAwFEnPR"
      },
      "outputs": [],
      "source": [
        "def train_dungeon_generator(num_episodes=1000, model_path=\"dungeon_rl_model.pth\"):\n",
        "    \"\"\"Train a single RL model to generate levels for all difficulties\"\"\"\n",
        "    envs = {d: DungeonEnvironment(d) for d in range(1, 11)}  # One environment per difficulty\n",
        "    agent = DungeonAgent(state_size=20 * 20, action_size=20 * 20 * len(envs[1].element_types))\n",
        "\n",
        "    for episode in range(num_episodes):\n",
        "        difficulty = random.randint(1, 10)  # Randomize difficulty per episode\n",
        "        env = envs[difficulty]  # Use environment for chosen difficulty\n",
        "        state = env.reset()\n",
        "        done = False\n",
        "\n",
        "        while not done:\n",
        "            action = agent.act(state)\n",
        "            next_state, reward, done = env.step(action)\n",
        "            agent.step(state, action, reward, next_state, done)\n",
        "            state = next_state\n",
        "\n",
        "        if episode % 100 == 0:\n",
        "            print(f\"Episode {episode}, Epsilon: {agent.epsilon:.3f}, Difficulty: {difficulty}\")\n",
        "\n",
        "    model_path = \"/content/drive/MyDrive/FAI/dungeon_rl_model.pth\"\n",
        "    torch.save(agent.qnetwork.state_dict(), model_path)\n",
        "\n",
        "    return agent, envs\n",
        "\n",
        "\n",
        "\n",
        "def generate_dungeon_with_model(agent, difficulty):\n",
        "    \"\"\"Generate a level using a trained RL model with added randomness\"\"\"\n",
        "    env = DungeonEnvironment(difficulty)\n",
        "    state = env.reset()\n",
        "    done = False\n",
        "\n",
        "    while not done:\n",
        "        action = agent.act(state, eval_mode=True)\n",
        "\n",
        "        # 20% chance to randomly explore even in evaluation mode\n",
        "        if random.random() < 0.2:\n",
        "            action = random.randint(0, env.width * env.height * len(env.element_types) - 1)\n",
        "\n",
        "        state, _, done = env.step(action)\n",
        "\n",
        "    return env.grid\n",
        "\n",
        "\n",
        "def visualize_dungeon(grid):\n",
        "    \"\"\"Display dungeon grid using matplotlib\"\"\"\n",
        "    fig, ax = plt.subplots(figsize=(6, 6))\n",
        "    for y in range(grid.shape[0]):\n",
        "        for x in range(grid.shape[1]):\n",
        "            rect = plt.Rectangle((x, grid.shape[0] - y - 1), 1, 1, facecolor=COLOR_MAP[grid[y, x]], edgecolor='black')\n",
        "            ax.add_patch(rect)\n",
        "\n",
        "    ax.set_xlim(0, grid.shape[1])\n",
        "    ax.set_ylim(0, grid.shape[0])\n",
        "    ax.set_xticks([])\n",
        "    ax.set_yticks([])\n",
        "    plt.title(\"Generated Dungeon\")\n",
        "    plt.show()"
      ]
    },
    {
      "cell_type": "code",
      "source": [
        "def load_trained_agent(model_path=\"dungeon_rl_model.pth\"):\n",
        "    \"\"\"Load the trained model weights into a new agent\"\"\"\n",
        "    model_weights = torch.load(model_path)\n",
        "    agent = DungeonAgent(state_size=20*20, action_size=20*20*len(DungeonEnvironment(1).element_types))\n",
        "    agent.qnetwork.load_state_dict(model_weights)\n",
        "    agent.qnetwork.eval()  # Set to evaluation mode\n",
        "    return agent"
      ],
      "metadata": {
        "id": "EDmkFgIBKmQt"
      },
      "execution_count": null,
      "outputs": []
    },
    {
      "cell_type": "code",
      "execution_count": null,
      "metadata": {
        "colab": {
          "base_uri": "https://localhost:8080/",
          "height": 695
        },
        "id": "CA9KajnmEoQm",
        "outputId": "a8bebe05-aabd-4c79-c122-7ad7aea14558"
      },
      "outputs": [
        {
          "output_type": "stream",
          "name": "stdout",
          "text": [
            "Episode 0, Epsilon: 1.000, Difficulty: 2\n",
            "Episode 100, Epsilon: 0.951, Difficulty: 8\n",
            "Episode 200, Epsilon: 0.902, Difficulty: 1\n",
            "Episode 300, Epsilon: 0.852, Difficulty: 5\n",
            "Episode 400, Epsilon: 0.804, Difficulty: 10\n",
            "Episode 500, Epsilon: 0.766, Difficulty: 7\n",
            "Episode 600, Epsilon: 0.724, Difficulty: 10\n",
            "Episode 700, Epsilon: 0.688, Difficulty: 5\n",
            "Episode 800, Epsilon: 0.649, Difficulty: 8\n",
            "Episode 900, Epsilon: 0.616, Difficulty: 8\n"
          ]
        },
        {
          "output_type": "display_data",
          "data": {
            "text/plain": [
              "<Figure size 600x600 with 1 Axes>"
            ],
            "image/png": "[encoded data removed]"
          },
          "metadata": {}
        }
      ],
      "source": [
        "# Train and Visualize\n",
        "if __name__ == \"__main__\":\n",
        "    trained_agent, trained_envs = train_dungeon_generator(num_episodes=1000)\n",
        "    generated_dungeon = generate_dungeon_with_model(trained_agent, 7)\n",
        "    visualize_dungeon(generated_dungeon)"
      ]
    },
    {
      "cell_type": "code",
      "execution_count": null,
      "metadata": {
        "colab": {
          "base_uri": "https://localhost:8080/",
          "height": 538
        },
        "id": "fByapT5CcOtd",
        "outputId": "9aaf5330-e024-4999-9545-9c2ce1d0a798"
      },
      "outputs": [
        {
          "output_type": "stream",
          "name": "stdout",
          "text": [
            "Difficulty: 10\n"
          ]
        },
        {
          "output_type": "display_data",
          "data": {
            "text/plain": [
              "<Figure size 600x600 with 1 Axes>"
            ],
            "image/png": "[encoded data removed]"
          },
          "metadata": {}
        }
      ],
      "source": [
        "difficulty = 10\n",
        "print(f\"Difficulty: {difficulty}\")\n",
        "generated_dungeon = generate_dungeon_with_model(trained_agent, difficulty)\n",
        "visualize_dungeon(generated_dungeon)"
      ]
    },
    {
      "cell_type": "code",
      "execution_count": null,
      "metadata": {
        "id": "LlMwIjVdWmUs"
      },
      "outputs": [],
      "source": [
        "import torch\n",
        "\n",
        "def save_model(agent, filename=\"dungeon_rl_model.pth\"):\n",
        "    \"\"\"Save trained DQN model weights.\"\"\"\n",
        "    torch.save(agent.qnetwork.state_dict(), filename)\n",
        "    print(f\"Model saved as {filename}\")\n",
        "\n",
        "def load_model(agent, filename=\"dungeon_rl_model.pth\"):\n",
        "    \"\"\"Load trained DQN model weights.\"\"\"\n",
        "    agent.qnetwork.load_state_dict(torch.load(filename))\n",
        "    agent.qnetwork.eval()  # Set to evaluation mode\n",
        "    print(f\"Model loaded from {filename}\")\n"
      ]
    },
    {
      "cell_type": "code",
      "execution_count": null,
      "metadata": {
        "id": "QHarvzJvWnZE"
      },
      "outputs": [],
      "source": [
        "save_model(trained_agent)"
      ]
    },
    {
      "cell_type": "code",
      "execution_count": null,
      "metadata": {
        "id": "rTRpKz_FWuAo"
      },
      "outputs": [],
      "source": [
        "# Load model before generating dungeons\n",
        "agent = DungeonAgent(state_size=10*10, action_size=10*10*4)  # Ensure same architecture\n",
        "load_model(agent)\n",
        "\n",
        "# Generate dungeon using the loaded model\n",
        "dungeon = generate_dungeon_with_model(agent, 10, 10)\n",
        "visualize_dungeon(dungeon)"
      ]
    }
  ],
  "metadata": {
    "colab": {
      "provenance": []
    },
    "kernelspec": {
      "display_name": "Python 3",
      "name": "python3"
    },
    "language_info": {
      "name": "python"
    }
  },
  "nbformat": 4,
  "nbformat_minor": 0
}