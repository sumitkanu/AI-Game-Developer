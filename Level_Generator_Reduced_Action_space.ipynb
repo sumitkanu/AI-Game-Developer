{
  "cells": [
    {
      "cell_type": "code",
      "execution_count": null,
      "metadata": {
        "colab": {
          "base_uri": "https://localhost:8080/"
        },
        "id": "_zEZSQoeg4CL",
        "outputId": "37b3d0e4-6658-4ae5-e6d6-02e5d9ed8977"
      },
      "outputs": [
        {
          "output_type": "stream",
          "name": "stdout",
          "text": [
            "Mounted at /content/drive\n"
          ]
        }
      ],
      "source": [
        "from google.colab import drive\n",
        "drive.mount('/content/drive')"
      ]
    },
    {
      "cell_type": "code",
      "source": [
        "!pip install --upgrade sympy"
      ],
      "metadata": {
        "colab": {
          "base_uri": "https://localhost:8080/",
          "height": 549
        },
        "id": "toSDgmBpXN4E",
        "outputId": "faff6894-e8e9-4f4f-93e6-d3a5e7b975c2"
      },
      "execution_count": null,
      "outputs": [
        {
          "output_type": "stream",
          "name": "stdout",
          "text": [
            "Requirement already satisfied: sympy in /usr/local/lib/python3.11/dist-packages (1.13.1)\n",
            "Collecting sympy\n",
            "  Downloading sympy-1.13.3-py3-none-any.whl.metadata (12 kB)\n",
            "Requirement already satisfied: mpmath<1.4,>=1.1.0 in /usr/local/lib/python3.11/dist-packages (from sympy) (1.3.0)\n",
            "Downloading sympy-1.13.3-py3-none-any.whl (6.2 MB)\n",
            "\u001b[2K   \u001b[90m━━━━━━━━━━━━━━━━━━━━━━━━━━━━━━━━━━━━━━━━\u001b[0m \u001b[32m6.2/6.2 MB\u001b[0m \u001b[31m46.4 MB/s\u001b[0m eta \u001b[36m0:00:00\u001b[0m\n",
            "\u001b[?25hInstalling collected packages: sympy\n",
            "  Attempting uninstall: sympy\n",
            "    Found existing installation: sympy 1.13.1\n",
            "    Uninstalling sympy-1.13.1:\n",
            "      Successfully uninstalled sympy-1.13.1\n",
            "\u001b[31mERROR: pip's dependency resolver does not currently take into account all the packages that are installed. This behaviour is the source of the following dependency conflicts.\n",
            "torch 2.6.0+cu124 requires nvidia-cublas-cu12==12.4.5.8; platform_system == \"Linux\" and platform_machine == \"x86_64\", but you have nvidia-cublas-cu12 12.5.3.2 which is incompatible.\n",
            "torch 2.6.0+cu124 requires nvidia-cuda-cupti-cu12==12.4.127; platform_system == \"Linux\" and platform_machine == \"x86_64\", but you have nvidia-cuda-cupti-cu12 12.5.82 which is incompatible.\n",
            "torch 2.6.0+cu124 requires nvidia-cuda-nvrtc-cu12==12.4.127; platform_system == \"Linux\" and platform_machine == \"x86_64\", but you have nvidia-cuda-nvrtc-cu12 12.5.82 which is incompatible.\n",
            "torch 2.6.0+cu124 requires nvidia-cuda-runtime-cu12==12.4.127; platform_system == \"Linux\" and platform_machine == \"x86_64\", but you have nvidia-cuda-runtime-cu12 12.5.82 which is incompatible.\n",
            "torch 2.6.0+cu124 requires nvidia-cudnn-cu12==9.1.0.70; platform_system == \"Linux\" and platform_machine == \"x86_64\", but you have nvidia-cudnn-cu12 9.3.0.75 which is incompatible.\n",
            "torch 2.6.0+cu124 requires nvidia-cufft-cu12==11.2.1.3; platform_system == \"Linux\" and platform_machine == \"x86_64\", but you have nvidia-cufft-cu12 11.2.3.61 which is incompatible.\n",
            "torch 2.6.0+cu124 requires nvidia-curand-cu12==10.3.5.147; platform_system == \"Linux\" and platform_machine == \"x86_64\", but you have nvidia-curand-cu12 10.3.6.82 which is incompatible.\n",
            "torch 2.6.0+cu124 requires nvidia-cusolver-cu12==11.6.1.9; platform_system == \"Linux\" and platform_machine == \"x86_64\", but you have nvidia-cusolver-cu12 11.6.3.83 which is incompatible.\n",
            "torch 2.6.0+cu124 requires nvidia-cusparse-cu12==12.3.1.170; platform_system == \"Linux\" and platform_machine == \"x86_64\", but you have nvidia-cusparse-cu12 12.5.1.3 which is incompatible.\n",
            "torch 2.6.0+cu124 requires nvidia-nvjitlink-cu12==12.4.127; platform_system == \"Linux\" and platform_machine == \"x86_64\", but you have nvidia-nvjitlink-cu12 12.5.82 which is incompatible.\n",
            "torch 2.6.0+cu124 requires sympy==1.13.1; python_version >= \"3.9\", but you have sympy 1.13.3 which is incompatible.\u001b[0m\u001b[31m\n",
            "\u001b[0mSuccessfully installed sympy-1.13.3\n"
          ]
        },
        {
          "output_type": "display_data",
          "data": {
            "application/vnd.colab-display-data+json": {
              "pip_warning": {
                "packages": [
                  "sympy"
                ]
              },
              "id": "b769f9e0cd26459b87889a2ea92419c3"
            }
          },
          "metadata": {}
        }
      ]
    },
    {
      "cell_type": "code",
      "execution_count": null,
      "metadata": {
        "id": "YN7mmJwdENDD"
      },
      "outputs": [],
      "source": [
        "import numpy as np\n",
        "import torch\n",
        "import torch.nn as nn\n",
        "import torch.optim as optim\n",
        "import torch.nn.functional as F\n",
        "import random\n",
        "import matplotlib.pyplot as plt\n",
        "from collections import deque, namedtuple\n",
        "\n",
        "# Define map elements\n",
        "EMPTY = 0\n",
        "WALL = 1\n",
        "LAVA = 2\n",
        "TREASURE = 3\n",
        "EXIT = 4\n",
        "START = 5\n",
        "ENEMY = 6\n",
        "\n",
        "# Define Colors for Visualization\n",
        "COLOR_MAP = {\n",
        "    EMPTY: \"white\",\n",
        "    WALL: \"brown\",\n",
        "    LAVA: \"red\",\n",
        "    TREASURE: \"yellow\",\n",
        "    EXIT: \"green\",\n",
        "    START: \"blue\",\n",
        "    ENEMY: \"purple\",\n",
        "}\n",
        "\n",
        "# Experience replay buffer\n",
        "Experience = namedtuple('Experience', ['state', 'action', 'reward', 'next_state', 'done'])"
      ]
    },
    {
      "cell_type": "code",
      "execution_count": null,
      "metadata": {
        "id": "W0uoMw7qEYpM"
      },
      "outputs": [],
      "source": [
        "class ReplayBuffer:\n",
        "    def __init__(self, capacity=5000):\n",
        "        self.buffer = deque(maxlen=capacity)\n",
        "\n",
        "    def push(self, state, action, reward, next_state, done):\n",
        "        self.buffer.append(Experience(state, action, reward, next_state, done))\n",
        "\n",
        "    def sample(self, batch_size):\n",
        "        experiences = random.sample(self.buffer, k=batch_size)\n",
        "        states = torch.stack([torch.tensor(e.state, dtype=torch.float) for e in experiences])\n",
        "        actions = torch.tensor([e.action for e in experiences])\n",
        "        rewards = torch.tensor([e.reward for e in experiences], dtype=torch.float)\n",
        "        next_states = torch.stack([torch.tensor(e.next_state, dtype=torch.float) for e in experiences])\n",
        "        dones = torch.tensor([e.done for e in experiences], dtype=torch.float)\n",
        "        return states, actions, rewards, next_states, dones\n",
        "\n",
        "    def __len__(self):\n",
        "        return len(self.buffer)"
      ]
    },
    {
      "cell_type": "code",
      "execution_count": null,
      "metadata": {
        "id": "S3LPcSUywcvs"
      },
      "outputs": [],
      "source": [
        "class DQNModel(nn.Module):\n",
        "    \"\"\"Lightweight Q-Network\"\"\"\n",
        "    def __init__(self, input_dim, output_dim):\n",
        "        super(DQNModel, self).__init__()\n",
        "        self.fc1 = nn.Linear(input_dim, 128)\n",
        "        self.fc2 = nn.Linear(128, 128)\n",
        "        self.fc3 = nn.Linear(128, output_dim)\n",
        "\n",
        "    def forward(self, x):\n",
        "        x = F.relu(self.fc1(x))\n",
        "        x = F.relu(self.fc2(x))\n",
        "        return self.fc3(x)"
      ]
    },
    {
      "cell_type": "code",
      "execution_count": null,
      "metadata": {
        "id": "H56s7G70ZnYM"
      },
      "outputs": [],
      "source": [
        "class DungeonAgent:\n",
        "    \"\"\"Agent that learns to generate levels\"\"\"\n",
        "    def __init__(self, state_size, action_size, seed=42):\n",
        "        self.state_size = state_size\n",
        "        self.action_size = action_size\n",
        "\n",
        "        random.seed(seed)\n",
        "        torch.manual_seed(seed)\n",
        "\n",
        "        self.device = torch.device(\"cuda\" if torch.cuda.is_available() else \"cpu\")\n",
        "\n",
        "        self.qnetwork = DQNModel(state_size, action_size).to(self.device)\n",
        "        self.optimizer = optim.Adam(self.qnetwork.parameters(), lr=0.001)\n",
        "        self.memory = ReplayBuffer(5000)\n",
        "\n",
        "        self.batch_size = 32\n",
        "        self.gamma = 0.99\n",
        "        self.epsilon = 1.0\n",
        "        self.epsilon_decay = 0.999995\n",
        "        self.epsilon_min = 0.000001\n",
        "\n",
        "    def act(self, state, eval_mode=False):\n",
        "        if not eval_mode and random.random() < self.epsilon:\n",
        "            return random.randint(0, self.action_size - 1)\n",
        "\n",
        "        state = torch.tensor(state, dtype=torch.float, device=self.device).unsqueeze(0)\n",
        "        with torch.no_grad():\n",
        "            action_values = self.qnetwork(state)\n",
        "\n",
        "        if eval_mode and random.random() < 0.2:\n",
        "            return random.randint(0, self.action_size - 1)\n",
        "\n",
        "        return torch.argmax(action_values).item()\n",
        "\n",
        "    def step(self, state, action, reward, next_state, done):\n",
        "        self.memory.push(state, action, reward, next_state, done)\n",
        "        if len(self.memory) > self.batch_size:\n",
        "            self.learn(self.memory.sample(self.batch_size))\n",
        "\n",
        "    def learn(self, experiences):\n",
        "        states, actions, rewards, next_states, dones = experiences\n",
        "\n",
        "        states = states.to(self.device)\n",
        "        actions = actions.to(self.device)\n",
        "        rewards = rewards.to(self.device)\n",
        "        next_states = next_states.to(self.device)\n",
        "        dones = dones.to(self.device)\n",
        "\n",
        "        Q_expected = self.qnetwork(states).gather(1, actions.unsqueeze(1)).squeeze(1)\n",
        "        Q_targets = rewards + (self.gamma * self.qnetwork(next_states).max(1)[0] * (1 - dones))\n",
        "\n",
        "        loss = F.mse_loss(Q_expected, Q_targets)\n",
        "        self.optimizer.zero_grad()\n",
        "        loss.backward()\n",
        "        self.optimizer.step()\n",
        "\n",
        "        self.epsilon = max(self.epsilon_min, self.epsilon * self.epsilon_decay)\n"
      ]
    },
    {
      "cell_type": "code",
      "execution_count": null,
      "metadata": {
        "id": "gJaRmN-3_coH"
      },
      "outputs": [],
      "source": [
        "class DungeonEnvironment:\n",
        "    def __init__(self, difficulty=5, board_size=20):\n",
        "        self.board_size = board_size\n",
        "        self.difficulty = difficulty\n",
        "        self.max_enemies = 4\n",
        "\n",
        "        self.element_types = [EMPTY, WALL, LAVA, TREASURE, EXIT, START, ENEMY]\n",
        "        self.placement_types = [LAVA, TREASURE, ENEMY, WALL, EMPTY]\n",
        "\n",
        "        self.grid = np.zeros((board_size, board_size), dtype=np.int8)\n",
        "        self.cursor = None\n",
        "        self.start_pos = None\n",
        "        self.exit_pos = None\n",
        "        self.steps = 0\n",
        "        self.max_steps = 400\n",
        "\n",
        "        self._setup_playable_area()\n",
        "\n",
        "    def _setup_playable_area(self):\n",
        "        \"\"\"Define and fill the playable area based on difficulty.\"\"\"\n",
        "        # Scale playable area size with difficulty\n",
        "        min_playable = 5\n",
        "        max_playable = 18\n",
        "        playable_size = min_playable + (self.difficulty - 1) * (max_playable - min_playable) // 9\n",
        "        self.playable_width = self.playable_height = playable_size\n",
        "\n",
        "        # Center the playable area\n",
        "        self.playable_start_x = (self.board_size - self.playable_width) // 2\n",
        "        self.playable_start_y = (self.board_size - self.playable_height) // 2\n",
        "        self.playable_end_x = self.playable_start_x + self.playable_width - 1\n",
        "        self.playable_end_y = self.playable_start_y + self.playable_height - 1\n",
        "\n",
        "        self.object_counts = {k: 0 for k in self.placement_types}\n",
        "\n",
        "    def reset(self):\n",
        "        self.grid = np.zeros((self.board_size, self.board_size), dtype=int)\n",
        "        self.steps = 0\n",
        "        self._setup_playable_area()\n",
        "\n",
        "        # Fill outer area with walls\n",
        "        for y in range(self.board_size):\n",
        "            for x in range(self.board_size):\n",
        "                if (\n",
        "                    x < self.playable_start_x or x > self.playable_end_x or\n",
        "                    y < self.playable_start_y or y > self.playable_end_y\n",
        "                ):\n",
        "                    self.grid[y][x] = WALL\n",
        "\n",
        "        # Place START and EXIT inside playable area\n",
        "        positions = [\n",
        "            (x, y)\n",
        "            for y in range(self.playable_start_y + 1, self.playable_end_y)\n",
        "            for x in range(self.playable_start_x + 1, self.playable_end_x)\n",
        "        ]\n",
        "        self.start_pos = random.choice(positions)\n",
        "        positions.remove(self.start_pos)\n",
        "        self.exit_pos = random.choice(positions)\n",
        "\n",
        "        self.grid[self.start_pos[1]][self.start_pos[0]] = START\n",
        "        self.grid[self.exit_pos[1]][self.exit_pos[0]] = EXIT\n",
        "\n",
        "        self.cursor = list(self.start_pos)\n",
        "        self.object_counts = {k: 0 for k in self.placement_types}\n",
        "        self.visited = {tuple(self.cursor)}\n",
        "\n",
        "        # Determine playable interior area\n",
        "        playable_area = (self.playable_width - 2) * (self.playable_height - 2)\n",
        "\n",
        "        # ✅ New logic for treasure limit\n",
        "        max_treasure = max(1, int(0.25 * (playable_area ** 0.5)) - (self.difficulty // 2))\n",
        "        max_treasure = min(max_treasure, 10)\n",
        "\n",
        "        # ✅ Lava and wall density updates\n",
        "        lava_density = 0.01 + 0.005 * self.difficulty\n",
        "        wall_density = 0.2 + 0.02 * self.difficulty\n",
        "\n",
        "        max_lava = int(playable_area * lava_density)\n",
        "        max_internal_walls = int(playable_area * wall_density)\n",
        "\n",
        "        # ✅ Enemy tier rules (already implemented)\n",
        "        if self.difficulty <= 4:\n",
        "            self.allowed_enemy_limit = 1\n",
        "        elif self.difficulty <= 7:\n",
        "            self.allowed_enemy_limit = random.randint(2, 3)\n",
        "        else:\n",
        "            self.allowed_enemy_limit = 5\n",
        "\n",
        "        # Place objects\n",
        "        self._place_random_objects(TREASURE, max_treasure)\n",
        "        self._place_random_objects(LAVA, max_lava)\n",
        "        self._place_random_objects(ENEMY, self.allowed_enemy_limit)\n",
        "        self._place_random_objects(WALL, max_internal_walls)\n",
        "\n",
        "\n",
        "        return self._get_state()\n",
        "\n",
        "\n",
        "\n",
        "    def _place_random_objects(self, tile, count):\n",
        "        attempts = 0\n",
        "        placed = 0\n",
        "        max_attempts = count * 10\n",
        "\n",
        "        while placed < count and attempts < max_attempts:\n",
        "            x = random.randint(self.playable_start_x + 1, self.playable_end_x - 1)\n",
        "            y = random.randint(self.playable_start_y + 1, self.playable_end_y - 1)\n",
        "\n",
        "            if (x, y) not in [self.start_pos, self.exit_pos] and self.grid[y][x] == EMPTY:\n",
        "                self.grid[y][x] = tile\n",
        "                placed += 1\n",
        "                if tile in self.object_counts:\n",
        "                    self.object_counts[tile] += 1\n",
        "\n",
        "            attempts += 1\n",
        "\n",
        "\n",
        "    def step(self, action):\n",
        "        self.steps += 1\n",
        "        reward = 0\n",
        "        done = False\n",
        "\n",
        "        if action < 4:\n",
        "            # Movement: up, down, left, right\n",
        "            dx, dy = [(0, -1), (0, 1), (-1, 0), (1, 0)][action]\n",
        "            new_x = min(max(self.cursor[0] + dx, self.playable_start_x + 1), self.playable_end_x - 1)\n",
        "            new_y = min(max(self.cursor[1] + dy, self.playable_start_y + 1), self.playable_end_y - 1)\n",
        "            self.cursor = [new_x, new_y]\n",
        "            reward -= 0.1  # discourage wandering\n",
        "        else:\n",
        "            tile = self.placement_types[action - 4]\n",
        "            cx, cy = self.cursor\n",
        "            current_tile = self.grid[cy][cx]\n",
        "\n",
        "            if (cx, cy) not in [self.start_pos, self.exit_pos]:\n",
        "                # Adjust old object count\n",
        "                if current_tile in self.object_counts:\n",
        "                    self.object_counts[current_tile] = max(0, self.object_counts[current_tile] - 1)\n",
        "\n",
        "                self.grid[cy][cx] = tile\n",
        "\n",
        "                # Apply tile placement logic\n",
        "                if tile == WALL:\n",
        "                    self.object_counts[WALL] += 1\n",
        "                    reward += 2\n",
        "                elif tile == TREASURE:\n",
        "                    self.object_counts[TREASURE] += 1\n",
        "                    reward += 3\n",
        "                elif tile == ENEMY:\n",
        "                    self.object_counts[ENEMY] += 1\n",
        "\n",
        "                    # ✅ Enforce enemy limit\n",
        "                    if self.object_counts[ENEMY] > self.allowed_enemy_limit:\n",
        "                        reward -= 10  # Heavy penalty\n",
        "                    else:\n",
        "                        reward += 4\n",
        "                elif tile == LAVA:\n",
        "                    self.object_counts[LAVA] += 1\n",
        "                    reward += 2\n",
        "                elif tile == EMPTY:\n",
        "                    reward -= 1\n",
        "\n",
        "        if self.steps >= self.max_steps:\n",
        "            done = True\n",
        "            reward += self._calculate_path_complexity() * 30\n",
        "\n",
        "        return self._get_state(), reward, done\n",
        "\n",
        "\n",
        "    def _get_state(self):\n",
        "        one_hot = np.zeros((self.board_size, self.board_size, len(self.element_types)), dtype=np.float32)\n",
        "        for y in range(self.board_size):\n",
        "            for x in range(self.board_size):\n",
        "                tile = self.grid[y][x]\n",
        "                one_hot[y, x, tile] = 1\n",
        "        flat = one_hot.flatten()\n",
        "        normalized_cursor = [self.cursor[0] / self.board_size, self.cursor[1] / self.board_size]\n",
        "        return np.concatenate([flat, normalized_cursor])\n",
        "\n",
        "    def _calculate_path_complexity(self):\n",
        "        \"\"\"Estimate complexity based on path length from START to EXIT\"\"\"\n",
        "        visited = np.zeros((self.board_size, self.board_size), dtype=bool)\n",
        "        queue = [(self.start_pos, 0)]\n",
        "        visited[self.start_pos[1], self.start_pos[0]] = True\n",
        "        path_lengths = []\n",
        "\n",
        "        while queue:\n",
        "            (x, y), dist = queue.pop(0)\n",
        "            if (x, y) == self.exit_pos:\n",
        "                path_lengths.append(dist)\n",
        "                continue\n",
        "\n",
        "            for dx, dy in [(0, -1), (1, 0), (0, 1), (-1, 0)]:\n",
        "                nx, ny = x + dx, y + dy\n",
        "                if (self.playable_start_x <= nx <= self.playable_end_x and\n",
        "                    self.playable_start_y <= ny <= self.playable_end_y and\n",
        "                    not visited[ny, nx] and self.grid[ny][nx] != WALL):\n",
        "                    visited[ny, nx] = True\n",
        "                    queue.append(((nx, ny), dist + 1))\n",
        "\n",
        "        if not path_lengths:\n",
        "            return 0\n",
        "\n",
        "        avg_path_length = sum(path_lengths) / len(path_lengths)\n",
        "        return avg_path_length / (self.playable_width + self.playable_height)\n"
      ]
    },
    {
      "cell_type": "code",
      "execution_count": null,
      "metadata": {
        "id": "NPm7LAwFEnPR"
      },
      "outputs": [],
      "source": [
        "def train_dungeon_generator(num_episodes=1000, model_path=\"dungeon_rl_model.pth\"):\n",
        "    \"\"\"Train a single RL model to generate levels for all difficulties.\"\"\"\n",
        "    envs = {d: DungeonEnvironment(d) for d in range(1, 11)}  # One environment per difficulty\n",
        "\n",
        "    tile_types = len(envs[1].element_types)\n",
        "    grid_size = 20 * 20\n",
        "    state_size = grid_size * tile_types + 2  # One-hot grid + cursor\n",
        "    action_size = 9  # 4 move + 5 place\n",
        "\n",
        "    agent = DungeonAgent(state_size=state_size, action_size=action_size)\n",
        "\n",
        "    for episode in range(num_episodes):\n",
        "        difficulty = random.randint(1, 10)\n",
        "        env = envs[difficulty]\n",
        "        state = env.reset()\n",
        "        done = False\n",
        "\n",
        "        while not done:\n",
        "            action = agent.act(state)\n",
        "            next_state, reward, done = env.step(action)\n",
        "            agent.step(state, action, reward, next_state, done)\n",
        "            state = next_state\n",
        "\n",
        "        if episode % 50 == 0:\n",
        "            print(f\"Episode {episode}, Epsilon: {agent.epsilon:.3f}, Difficulty: {difficulty}\")\n",
        "\n",
        "    torch.save(agent.qnetwork.state_dict(), model_path)\n",
        "    print(f\"Model saved to: {model_path}\")\n",
        "\n",
        "    return agent, envs\n",
        "\n",
        "\n",
        "def generate_dungeon_with_model(agent, difficulty):\n",
        "    \"\"\"Generate a level using a trained RL model with added randomness.\"\"\"\n",
        "    env = DungeonEnvironment(difficulty)\n",
        "    state = env.reset()\n",
        "    done = False\n",
        "\n",
        "    while not done:\n",
        "        action = agent.act(state, eval_mode=True)\n",
        "\n",
        "        if random.random() < 0.2:\n",
        "            action = random.randint(0, 8)  # Explore randomly\n",
        "\n",
        "        state, _, done = env.step(action)\n",
        "\n",
        "    return env.grid\n",
        "\n",
        "\n",
        "def visualize_dungeon(grid):\n",
        "    \"\"\"Display dungeon grid using matplotlib.\"\"\"\n",
        "    fig, ax = plt.subplots(figsize=(6, 6))\n",
        "    for y in range(grid.shape[0]):\n",
        "        for x in range(grid.shape[1]):\n",
        "            rect = plt.Rectangle(\n",
        "                (x, grid.shape[0] - y - 1), 1, 1,\n",
        "                facecolor=COLOR_MAP[grid[y, x]],\n",
        "                edgecolor='black'\n",
        "            )\n",
        "            ax.add_patch(rect)\n",
        "\n",
        "    ax.set_xlim(0, grid.shape[1])\n",
        "    ax.set_ylim(0, grid.shape[0])\n",
        "    ax.set_xticks([])\n",
        "    ax.set_yticks([])\n",
        "    plt.title(\"Generated Dungeon\")\n",
        "    plt.show()"
      ]
    },
    {
      "cell_type": "code",
      "execution_count": null,
      "metadata": {
        "id": "EDmkFgIBKmQt"
      },
      "outputs": [],
      "source": [
        "def load_trained_agent(model_path=\"/content/drive/MyDrive/FAI/dungeon_rl_model.pth\"):\n",
        "    \"\"\"Load the trained model weights into a new agent.\"\"\"\n",
        "    grid_size = 20 * 20\n",
        "    tile_types = len(COLOR_MAP)  # safer than hardcoding 7\n",
        "    state_size = grid_size * tile_types + 2  # one-hot grid + cursor\n",
        "    action_size = 9  # 4 move + 5 place\n",
        "\n",
        "    agent = DungeonAgent(state_size=state_size, action_size=action_size)\n",
        "    agent.qnetwork.load_state_dict(torch.load(model_path, map_location=torch.device('cpu')))\n",
        "    agent.qnetwork.eval()\n",
        "\n",
        "    print(f\"Model loaded from: {model_path}\")\n",
        "    return agent\n"
      ]
    },
    {
      "cell_type": "code",
      "execution_count": 11,
      "metadata": {
        "colab": {
          "base_uri": "https://localhost:8080/",
          "height": 356
        },
        "id": "CA9KajnmEoQm",
        "outputId": "e65221c1-32d7-453b-b78e-c0a95f03f113"
      },
      "outputs": [
        {
          "output_type": "error",
          "ename": "KeyboardInterrupt",
          "evalue": "",
          "traceback": [
            "\u001b[0;31m---------------------------------------------------------------------------\u001b[0m",
            "\u001b[0;31mKeyboardInterrupt\u001b[0m                         Traceback (most recent call last)",
            "\u001b[0;32m<ipython-input-11-a93204d8a31c>\u001b[0m in \u001b[0;36m<cell line: 0>\u001b[0;34m()\u001b[0m\n\u001b[1;32m      2\u001b[0m \u001b[0;31m# Train and Visualize\u001b[0m\u001b[0;34m\u001b[0m\u001b[0;34m\u001b[0m\u001b[0m\n\u001b[1;32m      3\u001b[0m \u001b[0;32mif\u001b[0m \u001b[0m__name__\u001b[0m \u001b[0;34m==\u001b[0m \u001b[0;34m\"__main__\"\u001b[0m\u001b[0;34m:\u001b[0m\u001b[0;34m\u001b[0m\u001b[0;34m\u001b[0m\u001b[0m\n\u001b[0;32m----> 4\u001b[0;31m     \u001b[0mtrained_agent\u001b[0m\u001b[0;34m,\u001b[0m \u001b[0mtrained_envs\u001b[0m \u001b[0;34m=\u001b[0m \u001b[0mtrain_dungeon_generator\u001b[0m\u001b[0;34m(\u001b[0m\u001b[0mnum_episodes\u001b[0m\u001b[0;34m=\u001b[0m\u001b[0;36m500\u001b[0m\u001b[0;34m)\u001b[0m\u001b[0;34m\u001b[0m\u001b[0;34m\u001b[0m\u001b[0m\n\u001b[0m\u001b[1;32m      5\u001b[0m     \u001b[0mgenerated_dungeon\u001b[0m \u001b[0;34m=\u001b[0m \u001b[0mgenerate_dungeon_with_model\u001b[0m\u001b[0;34m(\u001b[0m\u001b[0mtrained_agent\u001b[0m\u001b[0;34m,\u001b[0m \u001b[0;36m7\u001b[0m\u001b[0;34m)\u001b[0m\u001b[0;34m\u001b[0m\u001b[0;34m\u001b[0m\u001b[0m\n\u001b[1;32m      6\u001b[0m     \u001b[0mvisualize_dungeon\u001b[0m\u001b[0;34m(\u001b[0m\u001b[0mgenerated_dungeon\u001b[0m\u001b[0;34m)\u001b[0m\u001b[0;34m\u001b[0m\u001b[0;34m\u001b[0m\u001b[0m\n",
            "\u001b[0;32m<ipython-input-6-8703c6eedd33>\u001b[0m in \u001b[0;36mtrain_dungeon_generator\u001b[0;34m(num_episodes, model_path)\u001b[0m\n\u001b[1;32m     19\u001b[0m             \u001b[0maction\u001b[0m \u001b[0;34m=\u001b[0m \u001b[0magent\u001b[0m\u001b[0;34m.\u001b[0m\u001b[0mact\u001b[0m\u001b[0;34m(\u001b[0m\u001b[0mstate\u001b[0m\u001b[0;34m)\u001b[0m\u001b[0;34m\u001b[0m\u001b[0;34m\u001b[0m\u001b[0m\n\u001b[1;32m     20\u001b[0m             \u001b[0mnext_state\u001b[0m\u001b[0;34m,\u001b[0m \u001b[0mreward\u001b[0m\u001b[0;34m,\u001b[0m \u001b[0mdone\u001b[0m \u001b[0;34m=\u001b[0m \u001b[0menv\u001b[0m\u001b[0;34m.\u001b[0m\u001b[0mstep\u001b[0m\u001b[0;34m(\u001b[0m\u001b[0maction\u001b[0m\u001b[0;34m)\u001b[0m\u001b[0;34m\u001b[0m\u001b[0;34m\u001b[0m\u001b[0m\n\u001b[0;32m---> 21\u001b[0;31m             \u001b[0magent\u001b[0m\u001b[0;34m.\u001b[0m\u001b[0mstep\u001b[0m\u001b[0;34m(\u001b[0m\u001b[0mstate\u001b[0m\u001b[0;34m,\u001b[0m \u001b[0maction\u001b[0m\u001b[0;34m,\u001b[0m \u001b[0mreward\u001b[0m\u001b[0;34m,\u001b[0m \u001b[0mnext_state\u001b[0m\u001b[0;34m,\u001b[0m \u001b[0mdone\u001b[0m\u001b[0;34m)\u001b[0m\u001b[0;34m\u001b[0m\u001b[0;34m\u001b[0m\u001b[0m\n\u001b[0m\u001b[1;32m     22\u001b[0m             \u001b[0mstate\u001b[0m \u001b[0;34m=\u001b[0m \u001b[0mnext_state\u001b[0m\u001b[0;34m\u001b[0m\u001b[0;34m\u001b[0m\u001b[0m\n\u001b[1;32m     23\u001b[0m \u001b[0;34m\u001b[0m\u001b[0m\n",
            "\u001b[0;32m<ipython-input-4-bb282e4f86ad>\u001b[0m in \u001b[0;36mstep\u001b[0;34m(self, state, action, reward, next_state, done)\u001b[0m\n\u001b[1;32m     36\u001b[0m         \u001b[0mself\u001b[0m\u001b[0;34m.\u001b[0m\u001b[0mmemory\u001b[0m\u001b[0;34m.\u001b[0m\u001b[0mpush\u001b[0m\u001b[0;34m(\u001b[0m\u001b[0mstate\u001b[0m\u001b[0;34m,\u001b[0m \u001b[0maction\u001b[0m\u001b[0;34m,\u001b[0m \u001b[0mreward\u001b[0m\u001b[0;34m,\u001b[0m \u001b[0mnext_state\u001b[0m\u001b[0;34m,\u001b[0m \u001b[0mdone\u001b[0m\u001b[0;34m)\u001b[0m\u001b[0;34m\u001b[0m\u001b[0;34m\u001b[0m\u001b[0m\n\u001b[1;32m     37\u001b[0m         \u001b[0;32mif\u001b[0m \u001b[0mlen\u001b[0m\u001b[0;34m(\u001b[0m\u001b[0mself\u001b[0m\u001b[0;34m.\u001b[0m\u001b[0mmemory\u001b[0m\u001b[0;34m)\u001b[0m \u001b[0;34m>\u001b[0m \u001b[0mself\u001b[0m\u001b[0;34m.\u001b[0m\u001b[0mbatch_size\u001b[0m\u001b[0;34m:\u001b[0m\u001b[0;34m\u001b[0m\u001b[0;34m\u001b[0m\u001b[0m\n\u001b[0;32m---> 38\u001b[0;31m             \u001b[0mself\u001b[0m\u001b[0;34m.\u001b[0m\u001b[0mlearn\u001b[0m\u001b[0;34m(\u001b[0m\u001b[0mself\u001b[0m\u001b[0;34m.\u001b[0m\u001b[0mmemory\u001b[0m\u001b[0;34m.\u001b[0m\u001b[0msample\u001b[0m\u001b[0;34m(\u001b[0m\u001b[0mself\u001b[0m\u001b[0;34m.\u001b[0m\u001b[0mbatch_size\u001b[0m\u001b[0;34m)\u001b[0m\u001b[0;34m)\u001b[0m\u001b[0;34m\u001b[0m\u001b[0;34m\u001b[0m\u001b[0m\n\u001b[0m\u001b[1;32m     39\u001b[0m \u001b[0;34m\u001b[0m\u001b[0m\n\u001b[1;32m     40\u001b[0m     \u001b[0;32mdef\u001b[0m \u001b[0mlearn\u001b[0m\u001b[0;34m(\u001b[0m\u001b[0mself\u001b[0m\u001b[0;34m,\u001b[0m \u001b[0mexperiences\u001b[0m\u001b[0;34m)\u001b[0m\u001b[0;34m:\u001b[0m\u001b[0;34m\u001b[0m\u001b[0;34m\u001b[0m\u001b[0m\n",
            "\u001b[0;32m<ipython-input-4-bb282e4f86ad>\u001b[0m in \u001b[0;36mlearn\u001b[0;34m(self, experiences)\u001b[0m\n\u001b[1;32m     52\u001b[0m         \u001b[0mloss\u001b[0m \u001b[0;34m=\u001b[0m \u001b[0mF\u001b[0m\u001b[0;34m.\u001b[0m\u001b[0mmse_loss\u001b[0m\u001b[0;34m(\u001b[0m\u001b[0mQ_expected\u001b[0m\u001b[0;34m,\u001b[0m \u001b[0mQ_targets\u001b[0m\u001b[0;34m)\u001b[0m\u001b[0;34m\u001b[0m\u001b[0;34m\u001b[0m\u001b[0m\n\u001b[1;32m     53\u001b[0m         \u001b[0mself\u001b[0m\u001b[0;34m.\u001b[0m\u001b[0moptimizer\u001b[0m\u001b[0;34m.\u001b[0m\u001b[0mzero_grad\u001b[0m\u001b[0;34m(\u001b[0m\u001b[0;34m)\u001b[0m\u001b[0;34m\u001b[0m\u001b[0;34m\u001b[0m\u001b[0m\n\u001b[0;32m---> 54\u001b[0;31m         \u001b[0mloss\u001b[0m\u001b[0;34m.\u001b[0m\u001b[0mbackward\u001b[0m\u001b[0;34m(\u001b[0m\u001b[0;34m)\u001b[0m\u001b[0;34m\u001b[0m\u001b[0;34m\u001b[0m\u001b[0m\n\u001b[0m\u001b[1;32m     55\u001b[0m         \u001b[0mself\u001b[0m\u001b[0;34m.\u001b[0m\u001b[0moptimizer\u001b[0m\u001b[0;34m.\u001b[0m\u001b[0mstep\u001b[0m\u001b[0;34m(\u001b[0m\u001b[0;34m)\u001b[0m\u001b[0;34m\u001b[0m\u001b[0;34m\u001b[0m\u001b[0m\n\u001b[1;32m     56\u001b[0m \u001b[0;34m\u001b[0m\u001b[0m\n",
            "\u001b[0;32m/usr/local/lib/python3.11/dist-packages/torch/_tensor.py\u001b[0m in \u001b[0;36mbackward\u001b[0;34m(self, gradient, retain_graph, create_graph, inputs)\u001b[0m\n\u001b[1;32m    624\u001b[0m                 \u001b[0minputs\u001b[0m\u001b[0;34m=\u001b[0m\u001b[0minputs\u001b[0m\u001b[0;34m,\u001b[0m\u001b[0;34m\u001b[0m\u001b[0;34m\u001b[0m\u001b[0m\n\u001b[1;32m    625\u001b[0m             )\n\u001b[0;32m--> 626\u001b[0;31m         torch.autograd.backward(\n\u001b[0m\u001b[1;32m    627\u001b[0m             \u001b[0mself\u001b[0m\u001b[0;34m,\u001b[0m \u001b[0mgradient\u001b[0m\u001b[0;34m,\u001b[0m \u001b[0mretain_graph\u001b[0m\u001b[0;34m,\u001b[0m \u001b[0mcreate_graph\u001b[0m\u001b[0;34m,\u001b[0m \u001b[0minputs\u001b[0m\u001b[0;34m=\u001b[0m\u001b[0minputs\u001b[0m\u001b[0;34m\u001b[0m\u001b[0;34m\u001b[0m\u001b[0m\n\u001b[1;32m    628\u001b[0m         )\n",
            "\u001b[0;32m/usr/local/lib/python3.11/dist-packages/torch/autograd/__init__.py\u001b[0m in \u001b[0;36mbackward\u001b[0;34m(tensors, grad_tensors, retain_graph, create_graph, grad_variables, inputs)\u001b[0m\n\u001b[1;32m    345\u001b[0m     \u001b[0;31m# some Python versions print out the first line of a multi-line function\u001b[0m\u001b[0;34m\u001b[0m\u001b[0;34m\u001b[0m\u001b[0m\n\u001b[1;32m    346\u001b[0m     \u001b[0;31m# calls in the traceback and some print out the last line\u001b[0m\u001b[0;34m\u001b[0m\u001b[0;34m\u001b[0m\u001b[0m\n\u001b[0;32m--> 347\u001b[0;31m     _engine_run_backward(\n\u001b[0m\u001b[1;32m    348\u001b[0m         \u001b[0mtensors\u001b[0m\u001b[0;34m,\u001b[0m\u001b[0;34m\u001b[0m\u001b[0;34m\u001b[0m\u001b[0m\n\u001b[1;32m    349\u001b[0m         \u001b[0mgrad_tensors_\u001b[0m\u001b[0;34m,\u001b[0m\u001b[0;34m\u001b[0m\u001b[0;34m\u001b[0m\u001b[0m\n",
            "\u001b[0;32m/usr/local/lib/python3.11/dist-packages/torch/autograd/graph.py\u001b[0m in \u001b[0;36m_engine_run_backward\u001b[0;34m(t_outputs, *args, **kwargs)\u001b[0m\n\u001b[1;32m    821\u001b[0m         \u001b[0munregister_hooks\u001b[0m \u001b[0;34m=\u001b[0m \u001b[0m_register_logging_hooks_on_whole_graph\u001b[0m\u001b[0;34m(\u001b[0m\u001b[0mt_outputs\u001b[0m\u001b[0;34m)\u001b[0m\u001b[0;34m\u001b[0m\u001b[0;34m\u001b[0m\u001b[0m\n\u001b[1;32m    822\u001b[0m     \u001b[0;32mtry\u001b[0m\u001b[0;34m:\u001b[0m\u001b[0;34m\u001b[0m\u001b[0;34m\u001b[0m\u001b[0m\n\u001b[0;32m--> 823\u001b[0;31m         return Variable._execution_engine.run_backward(  # Calls into the C++ engine to run the backward pass\n\u001b[0m\u001b[1;32m    824\u001b[0m             \u001b[0mt_outputs\u001b[0m\u001b[0;34m,\u001b[0m \u001b[0;34m*\u001b[0m\u001b[0margs\u001b[0m\u001b[0;34m,\u001b[0m \u001b[0;34m**\u001b[0m\u001b[0mkwargs\u001b[0m\u001b[0;34m\u001b[0m\u001b[0;34m\u001b[0m\u001b[0m\n\u001b[1;32m    825\u001b[0m         )  # Calls into the C++ engine to run the backward pass\n",
            "\u001b[0;31mKeyboardInterrupt\u001b[0m: "
          ]
        }
      ],
      "source": [
        "# Dropout\n",
        "# Train and Visualize\n",
        "if __name__ == \"__main__\":\n",
        "    trained_agent, trained_envs = train_dungeon_generator(num_episodes=500)\n",
        "    generated_dungeon = generate_dungeon_with_model(trained_agent, 7)\n",
        "    visualize_dungeon(generated_dungeon)"
      ]
    },
    {
      "cell_type": "code",
      "execution_count": 10,
      "metadata": {
        "id": "fByapT5CcOtd",
        "colab": {
          "base_uri": "https://localhost:8080/",
          "height": 538
        },
        "outputId": "3a993827-b2d4-4faf-e414-9bd725d61ed1"
      },
      "outputs": [
        {
          "output_type": "stream",
          "name": "stdout",
          "text": [
            "Difficulty: 10\n"
          ]
        },
        {
          "output_type": "display_data",
          "data": {
            "text/plain": [
              "<Figure size 600x600 with 1 Axes>"
            ],
            "image/png": "[encoded data removed]"
          },
          "metadata": {}
        }
      ],
      "source": [
        "difficulty = 10\n",
        "print(f\"Difficulty: {difficulty}\")\n",
        "generated_dungeon = generate_dungeon_with_model(trained_agent, difficulty)\n",
        "visualize_dungeon(generated_dungeon)"
      ]
    },
    {
      "cell_type": "code",
      "execution_count": null,
      "metadata": {
        "colab": {
          "base_uri": "https://localhost:8080/",
          "height": 556
        },
        "id": "rTRpKz_FWuAo",
        "outputId": "25a92cc0-b164-4f45-fb10-5467ce0fa2ac"
      },
      "outputs": [
        {
          "name": "stdout",
          "output_type": "stream",
          "text": [
            "Model loaded from: /content/drive/MyDrive/FAI/dungeon_rl_model.pth\n",
            "Difficulty: 8\n"
          ]
        },
        {
          "data": {
            "image/png": "[encoded data removed]",
            "text/plain": [
              "<Figure size 600x600 with 1 Axes>"
            ]
          },
          "metadata": {},
          "output_type": "display_data"
        }
      ],
      "source": [
        "# Load model before generating dungeons\n",
        "agent = load_trained_agent(\"/content/drive/MyDrive/FAI/dungeon_rl_model.pth\")  # Ensure same architecture\n",
        "\n",
        "# Generate dungeon using the loaded model\n",
        "difficulty = 8\n",
        "print(f\"Difficulty: {difficulty}\")\n",
        "generated_dungeon = generate_dungeon_with_model(agent, difficulty)\n",
        "visualize_dungeon(generated_dungeon)"
      ]
    },
    {
      "cell_type": "code",
      "execution_count": null,
      "metadata": {
        "id": "_WxzZ639KcAu"
      },
      "outputs": [],
      "source": []
    }
  ],
  "metadata": {
    "accelerator": "GPU",
    "colab": {
      "gpuType": "T4",
      "provenance": []
    },
    "kernelspec": {
      "display_name": "Python 3",
      "name": "python3"
    },
    "language_info": {
      "name": "python"
    }
  },
  "nbformat": 4,
  "nbformat_minor": 0
}