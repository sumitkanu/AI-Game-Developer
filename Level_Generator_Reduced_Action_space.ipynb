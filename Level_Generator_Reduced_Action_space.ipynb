{
  "cells": [
    {
      "cell_type": "code",
      "execution_count": null,
      "metadata": {
        "colab": {
          "base_uri": "https://localhost:8080/"
        },
        "id": "_zEZSQoeg4CL",
        "outputId": "bec2dfa9-919a-4f81-e199-f4f8ed741446"
      },
      "outputs": [
        {
          "name": "stdout",
          "output_type": "stream",
          "text": [
            "Mounted at /content/drive\n"
          ]
        }
      ],
      "source": [
        "from google.colab import drive\n",
        "drive.mount('/content/drive')"
      ]
    },
    {
      "cell_type": "code",
      "execution_count": null,
      "metadata": {
        "id": "YN7mmJwdENDD"
      },
      "outputs": [],
      "source": [
        "import numpy as np\n",
        "import torch\n",
        "import torch.nn as nn\n",
        "import torch.optim as optim\n",
        "import torch.nn.functional as F\n",
        "import random\n",
        "import matplotlib.pyplot as plt\n",
        "from collections import deque, namedtuple\n",
        "\n",
        "# Define map elements\n",
        "EMPTY = 0\n",
        "WALL = 1\n",
        "LAVA = 2\n",
        "TREASURE = 3\n",
        "EXIT = 4\n",
        "START = 5\n",
        "ENEMY = 6\n",
        "\n",
        "# Define Colors for Visualization\n",
        "COLOR_MAP = {\n",
        "    EMPTY: \"white\",\n",
        "    WALL: \"brown\",\n",
        "    LAVA: \"red\",\n",
        "    TREASURE: \"yellow\",\n",
        "    EXIT: \"green\",\n",
        "    START: \"blue\",\n",
        "    ENEMY: \"purple\",\n",
        "}\n",
        "\n",
        "# Experience replay buffer\n",
        "Experience = namedtuple('Experience', ['state', 'action', 'reward', 'next_state', 'done'])"
      ]
    },
    {
      "cell_type": "code",
      "execution_count": null,
      "metadata": {
        "id": "W0uoMw7qEYpM"
      },
      "outputs": [],
      "source": [
        "class ReplayBuffer:\n",
        "    def __init__(self, capacity=5000):\n",
        "        self.buffer = deque(maxlen=capacity)\n",
        "\n",
        "    def push(self, state, action, reward, next_state, done):\n",
        "        self.buffer.append(Experience(state, action, reward, next_state, done))\n",
        "\n",
        "    def sample(self, batch_size):\n",
        "        experiences = random.sample(self.buffer, k=batch_size)\n",
        "        states = torch.stack([torch.tensor(e.state, dtype=torch.float) for e in experiences])\n",
        "        actions = torch.tensor([e.action for e in experiences])\n",
        "        rewards = torch.tensor([e.reward for e in experiences], dtype=torch.float)\n",
        "        next_states = torch.stack([torch.tensor(e.next_state, dtype=torch.float) for e in experiences])\n",
        "        dones = torch.tensor([e.done for e in experiences], dtype=torch.float)\n",
        "        return states, actions, rewards, next_states, dones\n",
        "\n",
        "    def __len__(self):\n",
        "        return len(self.buffer)"
      ]
    },
    {
      "cell_type": "code",
      "execution_count": null,
      "metadata": {
        "id": "S3LPcSUywcvs"
      },
      "outputs": [],
      "source": [
        "class DQNModel(nn.Module):\n",
        "    \"\"\"Lightweight Q-Network\"\"\"\n",
        "    def __init__(self, input_dim, output_dim):\n",
        "        super(DQNModel, self).__init__()\n",
        "        self.fc1 = nn.Linear(input_dim, 128)\n",
        "        self.fc2 = nn.Linear(128, 128)\n",
        "        self.fc3 = nn.Linear(128, output_dim)\n",
        "\n",
        "    def forward(self, x):\n",
        "        x = F.relu(self.fc1(x))\n",
        "        x = F.relu(self.fc2(x))\n",
        "        return self.fc3(x)"
      ]
    },
    {
      "cell_type": "code",
      "execution_count": null,
      "metadata": {
        "id": "H56s7G70ZnYM"
      },
      "outputs": [],
      "source": [
        "class DungeonAgent:\n",
        "    \"\"\"Agent that learns to generate levels\"\"\"\n",
        "    def __init__(self, state_size, action_size, seed=42):\n",
        "        self.state_size = state_size\n",
        "        self.action_size = action_size\n",
        "\n",
        "        random.seed(seed)\n",
        "        torch.manual_seed(seed)\n",
        "\n",
        "        self.device = torch.device(\"cuda\" if torch.cuda.is_available() else \"cpu\")\n",
        "\n",
        "        self.qnetwork = DQNModel(state_size, action_size).to(self.device)\n",
        "        self.optimizer = optim.Adam(self.qnetwork.parameters(), lr=0.001)\n",
        "        self.memory = ReplayBuffer(5000)\n",
        "\n",
        "        self.batch_size = 32\n",
        "        self.gamma = 0.99\n",
        "        self.epsilon = 1.0\n",
        "        self.epsilon_decay = 0.999995\n",
        "        self.epsilon_min = 0.000001\n",
        "\n",
        "    def act(self, state, eval_mode=False):\n",
        "        if not eval_mode and random.random() < self.epsilon:\n",
        "            return random.randint(0, self.action_size - 1)\n",
        "\n",
        "        state = torch.tensor(state, dtype=torch.float, device=self.device).unsqueeze(0)\n",
        "        with torch.no_grad():\n",
        "            action_values = self.qnetwork(state)\n",
        "\n",
        "        if eval_mode and random.random() < 0.2:\n",
        "            return random.randint(0, self.action_size - 1)\n",
        "\n",
        "        return torch.argmax(action_values).item()\n",
        "\n",
        "    def step(self, state, action, reward, next_state, done):\n",
        "        self.memory.push(state, action, reward, next_state, done)\n",
        "        if len(self.memory) > self.batch_size:\n",
        "            self.learn(self.memory.sample(self.batch_size))\n",
        "\n",
        "    def learn(self, experiences):\n",
        "        states, actions, rewards, next_states, dones = experiences\n",
        "\n",
        "        states = states.to(self.device)\n",
        "        actions = actions.to(self.device)\n",
        "        rewards = rewards.to(self.device)\n",
        "        next_states = next_states.to(self.device)\n",
        "        dones = dones.to(self.device)\n",
        "\n",
        "        Q_expected = self.qnetwork(states).gather(1, actions.unsqueeze(1)).squeeze(1)\n",
        "        Q_targets = rewards + (self.gamma * self.qnetwork(next_states).max(1)[0] * (1 - dones))\n",
        "\n",
        "        loss = F.mse_loss(Q_expected, Q_targets)\n",
        "        self.optimizer.zero_grad()\n",
        "        loss.backward()\n",
        "        self.optimizer.step()\n",
        "\n",
        "        self.epsilon = max(self.epsilon_min, self.epsilon * self.epsilon_decay)\n"
      ]
    },
    {
      "cell_type": "code",
      "execution_count": null,
      "metadata": {
        "id": "gJaRmN-3_coH"
      },
      "outputs": [],
      "source": [
        "class DungeonEnvironment:\n",
        "    def __init__(self, difficulty=5, board_size=20):\n",
        "        self.board_size = board_size\n",
        "        self.difficulty = difficulty\n",
        "        self.max_enemies = 4\n",
        "\n",
        "        self.element_types = [EMPTY, WALL, LAVA, TREASURE, EXIT, START, ENEMY]\n",
        "        self.placement_types = [LAVA, TREASURE, ENEMY, WALL, EMPTY]\n",
        "\n",
        "        self.grid = np.zeros((board_size, board_size), dtype=np.int8)\n",
        "        self.cursor = None\n",
        "        self.start_pos = None\n",
        "        self.exit_pos = None\n",
        "        self.steps = 0\n",
        "        self.max_steps = 400\n",
        "\n",
        "        self._setup_playable_area()\n",
        "\n",
        "    def _setup_playable_area(self):\n",
        "        \"\"\"Define and fill the playable area based on difficulty.\"\"\"\n",
        "        # Scale playable area size with difficulty\n",
        "        min_playable = 8\n",
        "        max_playable = 16\n",
        "        playable_size = min_playable + (self.difficulty - 1) * (max_playable - min_playable) // 9\n",
        "        self.playable_width = self.playable_height = playable_size\n",
        "\n",
        "        # Center the playable area\n",
        "        self.playable_start_x = (self.board_size - self.playable_width) // 2\n",
        "        self.playable_start_y = (self.board_size - self.playable_height) // 2\n",
        "        self.playable_end_x = self.playable_start_x + self.playable_width - 1\n",
        "        self.playable_end_y = self.playable_start_y + self.playable_height - 1\n",
        "\n",
        "        self.object_counts = {k: 0 for k in self.placement_types}\n",
        "\n",
        "    def reset(self):\n",
        "        self.grid = np.zeros((self.board_size, self.board_size), dtype=int)\n",
        "        self.steps = 0\n",
        "        self._setup_playable_area()\n",
        "\n",
        "        # Fill outer area with walls\n",
        "        for y in range(self.board_size):\n",
        "            for x in range(self.board_size):\n",
        "                if (\n",
        "                    x < self.playable_start_x or x > self.playable_end_x or\n",
        "                    y < self.playable_start_y or y > self.playable_end_y\n",
        "                ):\n",
        "                    self.grid[y][x] = WALL\n",
        "\n",
        "        # Place START and EXIT inside playable area\n",
        "        positions = [\n",
        "            (x, y)\n",
        "            for y in range(self.playable_start_y + 1, self.playable_end_y)\n",
        "            for x in range(self.playable_start_x + 1, self.playable_end_x)\n",
        "        ]\n",
        "        self.start_pos = random.choice(positions)\n",
        "        positions.remove(self.start_pos)\n",
        "        self.exit_pos = random.choice(positions)\n",
        "\n",
        "        self.grid[self.start_pos[1]][self.start_pos[0]] = START\n",
        "        self.grid[self.exit_pos[1]][self.exit_pos[0]] = EXIT\n",
        "\n",
        "        self.cursor = list(self.start_pos)\n",
        "        self.object_counts = {k: 0 for k in self.placement_types}\n",
        "        self.visited = {tuple(self.cursor)}\n",
        "\n",
        "        # Determine playable interior area\n",
        "        playable_area = (self.playable_width - 2) * (self.playable_height - 2)\n",
        "\n",
        "        # Set difficulty-scaled max counts\n",
        "        max_treasure = max(1, (playable_area // 40) + self.difficulty // 2)\n",
        "        max_lava = max(1, (playable_area // 35) + self.difficulty)\n",
        "        max_enemies = min(self.max_enemies, 1 + self.difficulty // 3)\n",
        "        wall_density = 0.15 + 0.02 * self.difficulty\n",
        "        max_internal_walls = int(playable_area * wall_density)\n",
        "\n",
        "        # Place randomly inside playable region\n",
        "        self._place_random_objects(TREASURE, max_treasure)\n",
        "        self._place_random_objects(LAVA, max_lava)\n",
        "        self._place_random_objects(ENEMY, max_enemies)\n",
        "        self._place_random_objects(WALL, max_internal_walls)\n",
        "\n",
        "        return self._get_state()\n",
        "\n",
        "\n",
        "    def _place_random_objects(self, tile, count):\n",
        "        attempts = 0\n",
        "        placed = 0\n",
        "        max_attempts = count * 10\n",
        "\n",
        "        while placed < count and attempts < max_attempts:\n",
        "            x = random.randint(self.playable_start_x + 1, self.playable_end_x - 1)\n",
        "            y = random.randint(self.playable_start_y + 1, self.playable_end_y - 1)\n",
        "\n",
        "            if (x, y) not in [self.start_pos, self.exit_pos] and self.grid[y][x] == EMPTY:\n",
        "                self.grid[y][x] = tile\n",
        "                placed += 1\n",
        "                if tile in self.object_counts:\n",
        "                    self.object_counts[tile] += 1\n",
        "\n",
        "            attempts += 1\n",
        "\n",
        "\n",
        "    def step(self, action):\n",
        "        self.steps += 1\n",
        "        reward = 0\n",
        "        done = False\n",
        "\n",
        "        if action < 4:\n",
        "            # Movement\n",
        "            dx, dy = [(0, -1), (0, 1), (-1, 0), (1, 0)][action]\n",
        "            new_x = min(max(self.cursor[0] + dx, self.playable_start_x + 1), self.playable_end_x - 1)\n",
        "            new_y = min(max(self.cursor[1] + dy, self.playable_start_y + 1), self.playable_end_y - 1)\n",
        "            self.cursor = [new_x, new_y]\n",
        "            reward -= 0.1  # discourage wandering\n",
        "        else:\n",
        "            tile = self.placement_types[action - 4]\n",
        "            cx, cy = self.cursor\n",
        "            current_tile = self.grid[cy][cx]\n",
        "\n",
        "            if (cx, cy) not in [self.start_pos, self.exit_pos]:\n",
        "                if current_tile in self.object_counts:\n",
        "                    self.object_counts[current_tile] = max(0, self.object_counts[current_tile] - 1)\n",
        "\n",
        "                self.grid[cy][cx] = tile\n",
        "\n",
        "                if tile in self.object_counts:\n",
        "                    self.object_counts[tile] += 1\n",
        "\n",
        "                # Reward shaping\n",
        "                if tile == WALL:\n",
        "                    reward += 2\n",
        "                elif tile == TREASURE:\n",
        "                    reward += 3\n",
        "                elif tile == ENEMY:\n",
        "                    reward += 4\n",
        "                elif tile == LAVA:\n",
        "                    reward += 2\n",
        "                elif tile == EMPTY:\n",
        "                    reward -= 1\n",
        "\n",
        "        if self.steps >= self.max_steps:\n",
        "            done = True\n",
        "            reward += self._calculate_path_complexity() * 30\n",
        "\n",
        "        return self._get_state(), reward, done\n",
        "\n",
        "    def _get_state(self):\n",
        "        one_hot = np.zeros((self.board_size, self.board_size, len(self.element_types)), dtype=np.float32)\n",
        "        for y in range(self.board_size):\n",
        "            for x in range(self.board_size):\n",
        "                tile = self.grid[y][x]\n",
        "                one_hot[y, x, tile] = 1\n",
        "        flat = one_hot.flatten()\n",
        "        normalized_cursor = [self.cursor[0] / self.board_size, self.cursor[1] / self.board_size]\n",
        "        return np.concatenate([flat, normalized_cursor])\n",
        "\n",
        "    def _calculate_path_complexity(self):\n",
        "        \"\"\"Estimate complexity based on path length from START to EXIT\"\"\"\n",
        "        visited = np.zeros((self.board_size, self.board_size), dtype=bool)\n",
        "        queue = [(self.start_pos, 0)]\n",
        "        visited[self.start_pos[1], self.start_pos[0]] = True\n",
        "        path_lengths = []\n",
        "\n",
        "        while queue:\n",
        "            (x, y), dist = queue.pop(0)\n",
        "            if (x, y) == self.exit_pos:\n",
        "                path_lengths.append(dist)\n",
        "                continue\n",
        "\n",
        "            for dx, dy in [(0, -1), (1, 0), (0, 1), (-1, 0)]:\n",
        "                nx, ny = x + dx, y + dy\n",
        "                if (self.playable_start_x <= nx <= self.playable_end_x and\n",
        "                    self.playable_start_y <= ny <= self.playable_end_y and\n",
        "                    not visited[ny, nx] and self.grid[ny][nx] != WALL):\n",
        "                    visited[ny, nx] = True\n",
        "                    queue.append(((nx, ny), dist + 1))\n",
        "\n",
        "        if not path_lengths:\n",
        "            return 0\n",
        "\n",
        "        avg_path_length = sum(path_lengths) / len(path_lengths)\n",
        "        return avg_path_length / (self.playable_width + self.playable_height)\n"
      ]
    },
    {
      "cell_type": "code",
      "execution_count": null,
      "metadata": {
        "id": "NPm7LAwFEnPR"
      },
      "outputs": [],
      "source": [
        "def train_dungeon_generator(num_episodes=1000, model_path=\"dungeon_rl_model.pth\"):\n",
        "    \"\"\"Train a single RL model to generate levels for all difficulties.\"\"\"\n",
        "    envs = {d: DungeonEnvironment(d) for d in range(1, 11)}  # One environment per difficulty\n",
        "\n",
        "    tile_types = len(envs[1].element_types)\n",
        "    grid_size = 20 * 20\n",
        "    state_size = grid_size * tile_types + 2  # One-hot grid + cursor\n",
        "    action_size = 9  # 4 move + 5 place\n",
        "\n",
        "    agent = DungeonAgent(state_size=state_size, action_size=action_size)\n",
        "\n",
        "    for episode in range(num_episodes):\n",
        "        difficulty = random.randint(1, 10)\n",
        "        env = envs[difficulty]\n",
        "        state = env.reset()\n",
        "        done = False\n",
        "\n",
        "        while not done:\n",
        "            action = agent.act(state)\n",
        "            next_state, reward, done = env.step(action)\n",
        "            agent.step(state, action, reward, next_state, done)\n",
        "            state = next_state\n",
        "\n",
        "        if episode % 50 == 0:\n",
        "            print(f\"Episode {episode}, Epsilon: {agent.epsilon:.3f}, Difficulty: {difficulty}\")\n",
        "\n",
        "    torch.save(agent.qnetwork.state_dict(), model_path)\n",
        "    print(f\"Model saved to: {model_path}\")\n",
        "\n",
        "    return agent, envs\n",
        "\n",
        "\n",
        "def generate_dungeon_with_model(agent, difficulty):\n",
        "    \"\"\"Generate a level using a trained RL model with added randomness.\"\"\"\n",
        "    env = DungeonEnvironment(difficulty)\n",
        "    state = env.reset()\n",
        "    done = False\n",
        "\n",
        "    while not done:\n",
        "        action = agent.act(state, eval_mode=True)\n",
        "\n",
        "        if random.random() < 0.2:\n",
        "            action = random.randint(0, 8)  # Explore randomly\n",
        "\n",
        "        state, _, done = env.step(action)\n",
        "\n",
        "    return env.grid\n",
        "\n",
        "\n",
        "def visualize_dungeon(grid):\n",
        "    \"\"\"Display dungeon grid using matplotlib.\"\"\"\n",
        "    fig, ax = plt.subplots(figsize=(6, 6))\n",
        "    for y in range(grid.shape[0]):\n",
        "        for x in range(grid.shape[1]):\n",
        "            rect = plt.Rectangle(\n",
        "                (x, grid.shape[0] - y - 1), 1, 1,\n",
        "                facecolor=COLOR_MAP[grid[y, x]],\n",
        "                edgecolor='black'\n",
        "            )\n",
        "            ax.add_patch(rect)\n",
        "\n",
        "    ax.set_xlim(0, grid.shape[1])\n",
        "    ax.set_ylim(0, grid.shape[0])\n",
        "    ax.set_xticks([])\n",
        "    ax.set_yticks([])\n",
        "    plt.title(\"Generated Dungeon\")\n",
        "    plt.show()"
      ]
    },
    {
      "cell_type": "code",
      "execution_count": null,
      "metadata": {
        "id": "EDmkFgIBKmQt"
      },
      "outputs": [],
      "source": [
        "def load_trained_agent(model_path=\"/content/drive/MyDrive/FAI/dungeon_rl_model.pth\"):\n",
        "    \"\"\"Load the trained model weights into a new agent.\"\"\"\n",
        "    grid_size = 20 * 20\n",
        "    tile_types = len(COLOR_MAP)  # safer than hardcoding 7\n",
        "    state_size = grid_size * tile_types + 2  # one-hot grid + cursor\n",
        "    action_size = 9  # 4 move + 5 place\n",
        "\n",
        "    agent = DungeonAgent(state_size=state_size, action_size=action_size)\n",
        "    agent.qnetwork.load_state_dict(torch.load(model_path, map_location=torch.device('cpu')))\n",
        "    agent.qnetwork.eval()\n",
        "\n",
        "    print(f\"Model loaded from: {model_path}\")\n",
        "    return agent\n"
      ]
    },
    {
      "cell_type": "code",
      "execution_count": null,
      "metadata": {
        "colab": {
          "background_save": true,
          "base_uri": "https://localhost:8080/"
        },
        "id": "CA9KajnmEoQm",
        "outputId": "bca49fa0-9159-41d4-bc18-1f81411e58fb"
      },
      "outputs": [
        {
          "name": "stdout",
          "output_type": "stream",
          "text": [
            "Episode 0, Epsilon: 0.998, Difficulty: 2\n",
            "Episode 50, Epsilon: 0.903, Difficulty: 10\n",
            "Episode 100, Epsilon: 0.817, Difficulty: 7\n",
            "Episode 150, Epsilon: 0.739, Difficulty: 10\n",
            "Episode 200, Epsilon: 0.669, Difficulty: 8\n",
            "Episode 250, Epsilon: 0.605, Difficulty: 8\n",
            "Episode 300, Epsilon: 0.548, Difficulty: 4\n",
            "Episode 350, Epsilon: 0.496, Difficulty: 4\n",
            "Episode 400, Epsilon: 0.449, Difficulty: 7\n",
            "Episode 450, Epsilon: 0.406, Difficulty: 10\n",
            "Model saved to: dungeon_rl_model.pth\n"
          ]
        },
        {
          "data": {
            "image/png": "[encoded data removed]",
            "text/plain": [
              "<Figure size 600x600 with 1 Axes>"
            ]
          },
          "metadata": {},
          "output_type": "display_data"
        }
      ],
      "source": [
        "# Dropout\n",
        "# Train and Visualize\n",
        "if __name__ == \"__main__\":\n",
        "    trained_agent, trained_envs = train_dungeon_generator(num_episodes=500)\n",
        "    generated_dungeon = generate_dungeon_with_model(trained_agent, 7)\n",
        "    visualize_dungeon(generated_dungeon)"
      ]
    },
    {
      "cell_type": "code",
      "execution_count": 29,
      "metadata": {
        "colab": {
          "base_uri": "https://localhost:8080/",
          "height": 538
        },
        "id": "fByapT5CcOtd",
        "outputId": "051076cb-09b5-4cfa-e2d0-d2acf276ab37"
      },
      "outputs": [
        {
          "output_type": "stream",
          "name": "stdout",
          "text": [
            "Difficulty: 5\n"
          ]
        },
        {
          "output_type": "display_data",
          "data": {
            "text/plain": [
              "<Figure size 600x600 with 1 Axes>"
            ],
            "image/png": "[encoded data removed]"
          },
          "metadata": {}
        }
      ],
      "source": [
        "difficulty = 5\n",
        "print(f\"Difficulty: {difficulty}\")\n",
        "generated_dungeon = generate_dungeon_with_model(trained_agent, difficulty)\n",
        "visualize_dungeon(generated_dungeon)"
      ]
    },
    {
      "cell_type": "code",
      "execution_count": null,
      "metadata": {
        "colab": {
          "base_uri": "https://localhost:8080/",
          "height": 556
        },
        "id": "rTRpKz_FWuAo",
        "outputId": "25a92cc0-b164-4f45-fb10-5467ce0fa2ac"
      },
      "outputs": [
        {
          "name": "stdout",
          "output_type": "stream",
          "text": [
            "Model loaded from: /content/drive/MyDrive/FAI/dungeon_rl_model.pth\n",
            "Difficulty: 8\n"
          ]
        },
        {
          "data": {
            "image/png": "[encoded data removed]",
            "text/plain": [
              "<Figure size 600x600 with 1 Axes>"
            ]
          },
          "metadata": {},
          "output_type": "display_data"
        }
      ],
      "source": [
        "# Load model before generating dungeons\n",
        "agent = load_trained_agent(\"/content/drive/MyDrive/FAI/dungeon_rl_model.pth\")  # Ensure same architecture\n",
        "\n",
        "# Generate dungeon using the loaded model\n",
        "difficulty = 8\n",
        "print(f\"Difficulty: {difficulty}\")\n",
        "generated_dungeon = generate_dungeon_with_model(agent, difficulty)\n",
        "visualize_dungeon(generated_dungeon)"
      ]
    },
    {
      "cell_type": "code",
      "execution_count": null,
      "metadata": {
        "id": "_WxzZ639KcAu"
      },
      "outputs": [],
      "source": []
    }
  ],
  "metadata": {
    "accelerator": "GPU",
    "colab": {
      "gpuType": "T4",
      "provenance": []
    },
    "kernelspec": {
      "display_name": "Python 3",
      "name": "python3"
    },
    "language_info": {
      "name": "python"
    }
  },
  "nbformat": 4,
  "nbformat_minor": 0
}